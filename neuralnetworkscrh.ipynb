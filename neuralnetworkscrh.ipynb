{
  "nbformat": 4,
  "nbformat_minor": 0,
  "metadata": {
    "colab": {
      "provenance": []
    },
    "kernelspec": {
      "name": "python3",
      "display_name": "Python 3"
    },
    "language_info": {
      "name": "python"
    }
  },
  "cells": [
    {
      "cell_type": "code",
      "execution_count": null,
      "metadata": {
        "colab": {
          "base_uri": "https://localhost:8080/"
        },
        "id": "tc7-LqlOnce-",
        "outputId": "fccd087d-54fc-4a5b-80f4-7c1b8bbea5a5"
      },
      "outputs": [
        {
          "output_type": "execute_result",
          "data": {
            "text/plain": [
              "3168"
            ]
          },
          "metadata": {},
          "execution_count": 2
        }
      ],
      "source": [
        "weight = [34 ,23, 12]\n",
        "bias = 12\n",
        "input = [45 ,54, 32]\n",
        "#  for a single neuron\n",
        "\n",
        "output = weight[0]*input[0] + weight[1]*input[1] + weight[2]*input[2] + bias\n",
        "output\n"
      ]
    },
    {
      "cell_type": "code",
      "source": [
        "#coding a layer\n",
        "input = [23, 44, 66, 32]\n",
        "weights1= [43, 67 ,12 ,41]\n",
        "weights2= [30, 27 ,52 ,11]\n",
        "weights3= [43, 25 ,62 ,21]\n",
        "bias1 = 23\n",
        "bias2 = 34\n",
        "bias3 = 12\n",
        "\n",
        "output = [weights1[0]*input[0] + weights1[1]*input[1] + weights1[2]*input[2] + weights1[3]*input[3] + bias1 ,\n",
        " weights2[0]*input[0] + weights2[1]*input[1] + weights2[2]*input[2] + weights2[3]*input[3] + bias2 ,\n",
        " weights3[0]*input[0] + weights3[1]*input[1] + weights3[2]*input[2] + weights3[3]*input[3] + bias3]\n",
        "print(output)"
      ],
      "metadata": {
        "id": "ypM8NMtx06Np",
        "colab": {
          "base_uri": "https://localhost:8080/"
        },
        "outputId": "c811005f-8c85-411a-8582-72806a804c10"
      },
      "execution_count": null,
      "outputs": [
        {
          "output_type": "stream",
          "name": "stdout",
          "text": [
            "[6064, 5696, 6865]\n"
          ]
        }
      ]
    },
    {
      "cell_type": "code",
      "source": [
        "# generalizing and automating the layer ans output\n",
        "inputs = [23, 44, 66, 32]\n",
        "weights= [[43, 67 ,12 ,41],\n",
        "[30, 27 ,52 ,11],\n",
        "[43, 25 ,62 ,21]]\n",
        "biases = [23 , 34 , 12]\n",
        "\n",
        "\n",
        "output_vec = []\n",
        "for neuron_weight , neuron_bias in zip(weights , biases):\n",
        "  neuron_output = 0\n",
        "  for cat_input , cat_weight in zip(inputs , neuron_weight):\n",
        "    neuron_output +=  cat_input*cat_weight\n",
        "  neuron_output += neuron_bias\n",
        "  output_vec.append(neuron_output)\n",
        "\n",
        "print(output_vec)"
      ],
      "metadata": {
        "id": "IB5J9z-uKKzT",
        "colab": {
          "base_uri": "https://localhost:8080/"
        },
        "outputId": "89ee9521-f0c5-480f-c958-20ca63052c5c"
      },
      "execution_count": null,
      "outputs": [
        {
          "output_type": "stream",
          "name": "stdout",
          "text": [
            "[6064, 5696, 6865]\n"
          ]
        }
      ]
    },
    {
      "cell_type": "code",
      "source": [
        "# using numpy for layers calculation\n",
        "import numpy as np\n",
        "inputs = [23, 44, 66, 32]\n",
        "weights= [[43, 67 ,12 ,41],\n",
        "[30, 27 ,52 ,11],\n",
        "[43, 25 ,62 ,21]]\n",
        "biases = [23 , 34 , 12]\n",
        "\n",
        "output_vec = np.dot(weights , inputs) + biases\n",
        "print(output_vec)"
      ],
      "metadata": {
        "colab": {
          "base_uri": "https://localhost:8080/"
        },
        "id": "SE7FpOOikTTm",
        "outputId": "ba5baa9e-337b-4c4a-ad52-ba9b6a9970ea"
      },
      "execution_count": null,
      "outputs": [
        {
          "output_type": "stream",
          "name": "stdout",
          "text": [
            "[6064 5696 6865]\n"
          ]
        }
      ]
    },
    {
      "cell_type": "code",
      "source": [
        "inputs = [[1 , 2 , 3 , 2.5],\n",
        "          [2.0, 5.0, -1.0, 2.0],\n",
        "          [-1.5, 2.7, 3.3, -0.8]]\n",
        "\n",
        "weights = [[0.2, 0.8, -0.5, 1.0],\n",
        "           [0.5, -0.91, 0.26, -0.5],\n",
        "           [-0.26, -0.27, 0.17, 0.87]]\n",
        "biases = [2 , 3 , 0.5]\n",
        "\n",
        "\n",
        "output_vec = np.dot(inputs , np.array(weights).T) + biases\n",
        "print(output_vec)"
      ],
      "metadata": {
        "colab": {
          "base_uri": "https://localhost:8080/"
        },
        "id": "Mp6-smOk9h1Z",
        "outputId": "07086220-7bac-4956-81e4-9f9316ddf2b7"
      },
      "execution_count": null,
      "outputs": [
        {
          "output_type": "stream",
          "name": "stdout",
          "text": [
            "[[ 4.8    1.21   2.385]\n",
            " [ 8.9   -1.81   0.2  ]\n",
            " [ 1.41   1.051  0.026]]\n"
          ]
        }
      ]
    },
    {
      "cell_type": "code",
      "source": [
        "inputs = [[1 , 2 , 3 , 2.5],\n",
        "          [2.0, 5.0, -1.0, 2.0],\n",
        "          [-1.5, 2.7, 3.3, -0.8]]\n",
        "\n",
        "weights1 = [[0.2, 0.8, -0.5, 1.0],\n",
        "           [0.5, -0.91, 0.26, -0.5],\n",
        "           [-0.26, -0.27, 0.17, 0.87]]\n",
        "biases1 = [[2 , 3 , 0.5]]\n",
        "\n",
        "weights2 = [[0.1, -0.14, 0.5],\n",
        "           [-0.5, 0.12, -0.33],\n",
        "           [-0.44, 0.73, -0.13]]\n",
        "biases2 = [[-1, 2, -0.5]]\n",
        "\n",
        "layer1_op = np.dot(weights1 , np.array(inputs).T) + np.array(biases1).T\n",
        "layer2_op = np.dot(weights2 , np.array(layer1_op)) + np.array(biases2).T\n",
        "print(layer2_op)"
      ],
      "metadata": {
        "colab": {
          "base_uri": "https://localhost:8080/"
        },
        "id": "s-xZK2fuco6D",
        "outputId": "f3cdeab4-03c5-4db6-c108-173d079e2bcf"
      },
      "execution_count": null,
      "outputs": [
        {
          "output_type": "stream",
          "name": "stdout",
          "text": [
            "[[ 0.5031   0.2434  -0.99314]\n",
            " [-1.04185 -2.7332   1.41254]\n",
            " [-2.03875 -5.7633  -0.35655]]\n"
          ]
        }
      ]
    },
    {
      "cell_type": "code",
      "source": [
        "np.random.seed(0)\n",
        "\n",
        "X = [[1 , 2 , 3 , 2.5],\n",
        "     [2.0, 5.0, -1.0, 2.0],\n",
        "     [-1.5, 2.7, 3.3, -0.8]]\n",
        "\n",
        "class layer_dense :\n",
        "  def __init__(self , n_inputs , n_neurons):\n",
        "    self.weights = 0.10*np.random.randn(n_inputs , n_neurons )\n",
        "    self.bias = np.zeros((1 , n_neurons))\n",
        "  def forward(self , input):\n",
        "    self.output = np.dot(input , self.weights) + self.bias\n",
        "\n",
        "\n",
        "layer1 = layer_dense(4 , 5)\n",
        "layer1.forward(X)\n",
        "\n",
        "layer1_out = layer1.output\n",
        "\n",
        "layer2 = layer_dense(5 , 2)\n",
        "layer2.forward(layer1_out)\n",
        "layer2_out = layer2.output\n",
        "print(layer2_out)"
      ],
      "metadata": {
        "id": "_L8wMufbf_Zj",
        "colab": {
          "base_uri": "https://localhost:8080/"
        },
        "outputId": "ee4c3c96-86a8-4926-aa05-3ea97d75b046"
      },
      "execution_count": null,
      "outputs": [
        {
          "output_type": "stream",
          "name": "stdout",
          "text": [
            "[[ 0.148296   -0.08397602]\n",
            " [ 0.14100315 -0.01340469]\n",
            " [ 0.20124979 -0.07290616]]\n"
          ]
        }
      ]
    },
    {
      "cell_type": "code",
      "source": [
        "np.random.seed(0)\n",
        "\n",
        "X = [[1 , 2 , 3 , 2.5],\n",
        "     [2.0, 5.0, -1.0, 2.0],\n",
        "     [-1.5, 2.7, 3.3, -0.8]]\n",
        "\n",
        "class Activation_ReLU:\n",
        "  def forward(self , input):\n",
        "    self.output = np.maximum(0 , input)\n",
        "\n",
        "class layer_dense :\n",
        "  def __init__(self , n_inputs , n_neurons):\n",
        "    self.weights = 0.10*np.random.randn(n_inputs , n_neurons )\n",
        "    self.bias = np.zeros((1 , n_neurons))\n",
        "  def forward(self , input):\n",
        "    self.output = np.dot(input , self.weights) + self.bias\n",
        "\n",
        "\n",
        "layer1 = layer_dense(4 , 5)\n",
        "layer1.forward(X)\n",
        "layer1_out = layer1.output\n",
        "\n",
        "layer2 = layer_dense(5 , 2)\n",
        "layer2.forward(layer1_out)\n",
        "layer2_out = layer2.output\n",
        "print(layer2_out)"
      ],
      "metadata": {
        "colab": {
          "base_uri": "https://localhost:8080/"
        },
        "id": "OkNUNsF9aIvC",
        "outputId": "b5144e10-9aea-47e0-f657-a9b1356bf114"
      },
      "execution_count": null,
      "outputs": [
        {
          "output_type": "stream",
          "name": "stdout",
          "text": [
            "[[ 0.148296   -0.08397602]\n",
            " [ 0.14100315 -0.01340469]\n",
            " [ 0.20124979 -0.07290616]]\n"
          ]
        }
      ]
    },
    {
      "cell_type": "code",
      "source": [
        "pip install nnfs"
      ],
      "metadata": {
        "id": "3VCo2rfni9OP",
        "colab": {
          "base_uri": "https://localhost:8080/"
        },
        "outputId": "81d10b9b-d807-4d61-d669-e92c0d767026"
      },
      "execution_count": null,
      "outputs": [
        {
          "output_type": "stream",
          "name": "stdout",
          "text": [
            "Collecting nnfs\n",
            "  Downloading nnfs-0.5.1-py3-none-any.whl (9.1 kB)\n",
            "Requirement already satisfied: numpy in /usr/local/lib/python3.10/dist-packages (from nnfs) (1.25.2)\n",
            "Installing collected packages: nnfs\n",
            "Successfully installed nnfs-0.5.1\n"
          ]
        }
      ]
    },
    {
      "cell_type": "code",
      "source": [
        "import nnfs\n",
        "from nnfs.datasets import spiral_data"
      ],
      "metadata": {
        "id": "xSDSxLVznj8O"
      },
      "execution_count": null,
      "outputs": []
    },
    {
      "cell_type": "code",
      "source": [
        "# working with a spiral datasets\n",
        "\n",
        "\n",
        "np.random.seed(0)\n",
        "X, y = spiral_data(100, 3)\n",
        "\n",
        "class Activation_ReLU:\n",
        "  def forward(self , input):\n",
        "    self.output = np.maximum(0 , input)\n",
        "\n",
        "class layer_dense :\n",
        "  def __init__(self , n_inputs , n_neurons):\n",
        "    self.weights = 0.10*np.random.randn(n_inputs , n_neurons )\n",
        "    self.bias = np.zeros((1 , n_neurons))\n",
        "  def forward(self , input):\n",
        "    self.output = np.dot(input , self.weights) + self.bias\n",
        "\n",
        "\n",
        "layer1 = layer_dense(2 , 5)\n",
        "layer1.forward(X)\n",
        "print(layer1.output)\n",
        "activation1 = Activation_ReLU()\n",
        "activation1.forward(layer1.output)\n",
        "print('\\nactivation ReLU:\\n',activation1.output)"
      ],
      "metadata": {
        "colab": {
          "base_uri": "https://localhost:8080/"
        },
        "id": "dSdVlLXxpHQH",
        "outputId": "e238435e-0e12-4bd1-aaba-a6515397b245"
      },
      "execution_count": null,
      "outputs": [
        {
          "output_type": "stream",
          "name": "stdout",
          "text": [
            "[[ 0.00000000e+00  0.00000000e+00  0.00000000e+00  0.00000000e+00\n",
            "   0.00000000e+00]\n",
            " [-8.35815841e-04 -7.90404397e-04 -1.33452229e-03  4.65504526e-04\n",
            "   4.56845892e-05]\n",
            " [-2.39994444e-03  5.93467943e-05 -2.24808279e-03  2.03573189e-04\n",
            "   6.10024276e-04]\n",
            " ...\n",
            " [ 1.13291515e-01 -1.89262273e-01 -2.06855070e-02  8.11079627e-02\n",
            "  -6.71350806e-02]\n",
            " [ 1.34588354e-01 -1.43197830e-01  3.09493973e-02  5.66337522e-02\n",
            "  -6.29687395e-02]\n",
            " [ 1.07817915e-01 -2.00809631e-01 -3.37579330e-02  8.72561871e-02\n",
            "  -6.81458780e-02]]\n",
            "\n",
            "activation ReLU:\n",
            " [[0.00000000e+00 0.00000000e+00 0.00000000e+00 0.00000000e+00\n",
            "  0.00000000e+00]\n",
            " [0.00000000e+00 0.00000000e+00 0.00000000e+00 4.65504526e-04\n",
            "  4.56845892e-05]\n",
            " [0.00000000e+00 5.93467943e-05 0.00000000e+00 2.03573189e-04\n",
            "  6.10024276e-04]\n",
            " ...\n",
            " [1.13291515e-01 0.00000000e+00 0.00000000e+00 8.11079627e-02\n",
            "  0.00000000e+00]\n",
            " [1.34588354e-01 0.00000000e+00 3.09493973e-02 5.66337522e-02\n",
            "  0.00000000e+00]\n",
            " [1.07817915e-01 0.00000000e+00 0.00000000e+00 8.72561871e-02\n",
            "  0.00000000e+00]]\n"
          ]
        }
      ]
    },
    {
      "cell_type": "code",
      "source": [
        "# introduction to softmax function\n",
        "# exponential function\n",
        "import math\n",
        "\n",
        "\n",
        "layer_output = [ 4.8  , 1.21 ,  2.385]\n",
        "\n",
        "exp_values = np.exp(layer_output)\n",
        "\n",
        "print(exp_values)\n",
        "\n",
        "# prob noramal distribution\n",
        "\n",
        "norm_base = sum(exp_values)\n",
        "norm_values = exp_values/norm_base\n",
        "\n",
        "\n",
        "print(norm_values)\n",
        "print(sum(norm_values))"
      ],
      "metadata": {
        "id": "6-dpK_Ou5aoF",
        "colab": {
          "base_uri": "https://localhost:8080/"
        },
        "outputId": "d1a4d3d9-0c60-499c-f0a1-f8a8b04a99bd"
      },
      "execution_count": null,
      "outputs": [
        {
          "output_type": "stream",
          "name": "stdout",
          "text": [
            "[121.51041752   3.35348465  10.85906266]\n",
            "[0.89528266 0.02470831 0.08000903]\n",
            "0.9999999999999999\n"
          ]
        }
      ]
    },
    {
      "cell_type": "code",
      "source": [
        "# fitting for batch\n",
        "layer_output = [[ 4.8  ,  1.21 ,  2.385],\n",
        "                [ 8.9 ,  -1.81 ,  0.2  ],\n",
        "                [ 1.41 ,  1.051 , 0.026]]\n",
        "\n",
        "exp_values = np.exp(layer_output)\n",
        "dim_sum = np.sum(exp_values , axis = 1 , keepdims = True )\n",
        "norm_values = exp_values / dim_sum\n",
        "norm_values\n",
        "\n"
      ],
      "metadata": {
        "id": "4xXuSp0tIvdi",
        "colab": {
          "base_uri": "https://localhost:8080/"
        },
        "outputId": "029405cd-7222-4220-de59-d21eba3decac"
      },
      "execution_count": null,
      "outputs": [
        {
          "output_type": "execute_result",
          "data": {
            "text/plain": [
              "array([[8.95282664e-01, 2.47083068e-02, 8.00090293e-02],\n",
              "       [9.99811129e-01, 2.23163963e-05, 1.66554348e-04],\n",
              "       [5.13097164e-01, 3.58333899e-01, 1.28568936e-01]])"
            ]
          },
          "metadata": {},
          "execution_count": 14
        }
      ]
    },
    {
      "cell_type": "code",
      "source": [
        "#final softmax implimentation\n",
        "import numpy as np\n",
        "nnfs.init\n",
        "np.random.seed(0)\n",
        "X, y = spiral_data(100, 3)\n",
        "\n",
        "class Activation_ReLU:\n",
        "  def forward(self , input):\n",
        "    self.output = np.maximum(0 , input)\n",
        "\n",
        "class Activation_Softmax:\n",
        "  def forward(self , inputs):\n",
        "    exp_values = np.exp(np.max(inputs , axis=1 , keepdims = True) - inputs)\n",
        "    probabilities = exp_values / np.sum(exp_values , axis =1  , keepdims= True)\n",
        "    self.output = probabilities\n",
        "\n",
        "class layer_dense :\n",
        "  def __init__(self , n_inputs , n_neurons):\n",
        "    self.weights = 0.10*np.random.randn(n_inputs , n_neurons )\n",
        "    self.bias = np.zeros((1 , n_neurons))\n",
        "  def forward(self , input):\n",
        "    self.output = np.dot(input , self.weights) + self.bias\n",
        "\n",
        "class Loss:\n",
        "  def calculate(self , output , y):\n",
        "    loss_values = self.forward(output , y)\n",
        "    mean_loss = np.mean(loss_values)\n",
        "    return mean_loss\n",
        "\n",
        "class Loss_CategoricalCrossEntropy(Loss):\n",
        "  def forward(self , y_pred , y_true):\n",
        "    sample_len = len(y_pred)\n",
        "    clipped_pred = np.clip(y_pred , 1e-7 , 1-1e-7) # [1,2,3,4,5,6,7] cliped in range(2 , 5) ----> [2,2,3,4,5,5,5]\n",
        "\n",
        "    if len(y_true.shape) == 1: #class targets\n",
        "      correct_confidences = clipped_pred[range(sample_len) , y_true]\n",
        "\n",
        "    elif len(y_true.shape) == 2:\n",
        "      correct_confidences = np.sum(clipped_pred * y_true , axis = 1)\n",
        "\n",
        "    entropy_loss  = - np.log(correct_confidences)\n",
        "    return entropy_loss\n",
        "\n",
        "\n",
        "layer1 = layer_dense(2 , 3)\n",
        "layer2 = layer_dense(3 , 3)\n",
        "\n",
        "activation1 = Activation_ReLU()\n",
        "activation2 = Activation_Softmax()\n",
        "\n",
        "layer1.forward(X)\n",
        "activation1.forward(layer1.output)\n",
        "output1 = activation1.output\n",
        "\n",
        "layer2.forward(output1)\n",
        "activation2.forward(layer2.output)\n",
        "output2 = activation2.output\n",
        "print(output2[:5])\n",
        "print(np.sum(output2 , axis=1 , keepdims=True)[:5])\n",
        "\n",
        "loss_function = Loss_CategoricalCrossEntropy()\n",
        "loss = loss_function.calculate(output2 , y)\n",
        "\n",
        "print(loss)\n",
        "\n"
      ],
      "metadata": {
        "colab": {
          "base_uri": "https://localhost:8080/"
        },
        "id": "T36X9M7XE-u9",
        "outputId": "1ad9f518-e4af-4252-9256-2909aeda41a6"
      },
      "execution_count": null,
      "outputs": [
        {
          "output_type": "stream",
          "name": "stdout",
          "text": [
            "[[0.33333333 0.33333333 0.33333333]\n",
            " [0.33334933 0.33334834 0.33330233]\n",
            " [0.33337786 0.33337513 0.33324701]\n",
            " [0.33340725 0.3334027  0.33319005]\n",
            " [0.33343354 0.33342738 0.33313909]]\n",
            "[[1.]\n",
            " [1.]\n",
            " [1.]\n",
            " [1.]\n",
            " [1.]]\n",
            "1.0988106274425764\n"
          ]
        }
      ]
    },
    {
      "cell_type": "code",
      "source": [
        "# chain rule and gradient descent\n",
        "\n",
        "x = [1.0, -2.0, 3.0]\n",
        "w = [-3.0, -1.0, 2.0]\n",
        "b= 1.0\n",
        "\n",
        "\n",
        "xw0 = x[0] * w[0]\n",
        "xw1 = x[1] * w[1]\n",
        "xw2 = x[2] * w[2]\n",
        "\n",
        "z = xw0 + xw1 + xw2 + b\n",
        "\n",
        "\n",
        "# activation\n",
        "y = max(z , 0)\n",
        "\n",
        "#  derrivative of the next layer\n",
        "\n",
        "dvalue = 1\n",
        "\n",
        "# derrivation of relu wrt dz\n",
        "drelu_dz = dvalue * (1 if z > 0 else 0)\n",
        "print(\"drelu_dz \" , drelu_dz)\n",
        "\n",
        "# paritial derrvatives and chain rule\n",
        "dsum_dxw0 = 1\n",
        "dsum_dxw1 = 1\n",
        "dsum_dxw2 = 1\n",
        "dsum_db = 1\n",
        "\n",
        "drelu_dxw0 = drelu_dz * dsum_dxw0\n",
        "drelu_dxw1 = drelu_dz * dsum_dxw0\n",
        "drelu_dxw2 = drelu_dz * dsum_dxw0\n",
        "drelu_db = drelu_dz * dsum_db\n",
        "\n",
        "print(drelu_dxw0, drelu_dxw1, drelu_dxw2 , drelu_db)\n",
        "\n",
        "dmul_dx0 = w[0]\n",
        "dmul_dx1 = w[1]\n",
        "dmul_dx2 = w[2]\n",
        "dmul_dw0 = x[0]\n",
        "dmul_dw1 = x[1]\n",
        "dmul_dw2 = x[2]\n",
        "drelu_x0 = drelu_dz * dmul_dx0\n",
        "drelu_x1 = drelu_dz * dmul_dx1\n",
        "drelu_x2 = drelu_dz * dmul_dx2\n",
        "drelu_w0 = drelu_dz * dmul_dw0\n",
        "drelu_w1 = drelu_dz * dmul_dw1\n",
        "drelu_w2 = drelu_dz * dmul_dw2\n",
        "\n",
        "print(drelu_x0, drelu_x1, drelu_x2, drelu_w0, drelu_w1, drelu_w2)\n",
        "\n",
        "\n",
        "dx = [drelu_x0, drelu_x1, drelu_x2] #gradient on inputs\n",
        "dw = [drelu_w0, drelu_w1, drelu_w2 ] #gradient on weights\n",
        "db = drelu_db  #gradient on bias\n",
        "\n",
        "w[0] -= 0.001 * dw[0]\n",
        "w[1] -= 0.001 * dw[1]\n",
        "w[2] -= 0.001 * dw[2]\n",
        "b -= 0.001 * db\n",
        "\n",
        "xw0 = x[0] * w[0]\n",
        "xw1 = x[1] * w[1]\n",
        "xw2 = x[2] * w[2]\n",
        "\n",
        "z= xw0 + xw1 +xw2 + b\n",
        "\n",
        "y = max(z ,0)\n",
        "\n",
        "print(y)"
      ],
      "metadata": {
        "id": "SaxJL_xmRQo7",
        "colab": {
          "base_uri": "https://localhost:8080/"
        },
        "outputId": "7d5f3aeb-6d0f-488f-c3f8-ccd749cd41e4"
      },
      "execution_count": null,
      "outputs": [
        {
          "output_type": "stream",
          "name": "stdout",
          "text": [
            "drelu_dz  1\n",
            "1 1 1 1\n",
            "-3.0 -1.0 2.0 1.0 -2.0 3.0\n",
            "5.985\n"
          ]
        }
      ]
    },
    {
      "cell_type": "code",
      "source": [
        "\n",
        "dvalues = np.array([[1., 1., 1.],\n",
        "                    [2., 2., 2.],\n",
        "                    [3., 3., 3.]])\n",
        "\n",
        "weights = np.array([[0.2, 0.8, -0.5, 1],\n",
        "                    [0.5, -0.91, 0.26, -0.5],\n",
        "                    [-0.26, -0.27, 0.17, 0.87]]).T\n",
        "# sum weights of given inputs and multiply by the gradient for this neuron\n",
        "# dx0 = sum(weights[0]*dvalues[0])\n",
        "# dx1 = sum(weights[1]*dvalues[0])\n",
        "# dx2 = sum(weights[2]*dvalues[0])\n",
        "# dx3 = sum(weights[3]*dvalues[0])\n",
        "\n",
        "dinputs = np.dot(dvalues , weights.T)\n",
        "\n",
        "print(dinputs)"
      ],
      "metadata": {
        "id": "h7ZEV360JU09",
        "colab": {
          "base_uri": "https://localhost:8080/"
        },
        "outputId": "e92ce8d3-91ce-4f7b-838f-addc027d39dc"
      },
      "execution_count": null,
      "outputs": [
        {
          "output_type": "stream",
          "name": "stdout",
          "text": [
            "[[ 0.44 -0.38 -0.07  1.37]\n",
            " [ 0.88 -0.76 -0.14  2.74]\n",
            " [ 1.32 -1.14 -0.21  4.11]]\n"
          ]
        }
      ]
    },
    {
      "cell_type": "code",
      "source": [
        "import numpy as np\n",
        "dvalues = np.array([[1., 1., 1.],                     #down-> batches          side -> neurons\n",
        "                    [2., 2., 2.],\n",
        "                    [3., 3., 3.]])\n",
        "\n",
        "inputs = np.array([[1, 2, 3, 2.5],\n",
        "                   [2., 5., -1., 2],                  #down-> batches          side -> categories\n",
        "                   [-1.5, 2.7, 3.3, -0.8]])\n",
        "# sum weights of given inputs and multiply by the gradient for this neuron\n",
        "# dx0 = sum(weights[0]*dvalues[0])\n",
        "# dx1 = sum(weights[1]*dvalues[0])\n",
        "# dx2 = sum(weights[2]*dvalues[0])\n",
        "# dx3 = sum(weights[3]*dvalues[0])\n",
        "\n",
        "dweights = np.dot(inputs.T, dvalues)\n",
        "\n",
        "print(dweights)                                      #down-> categories          side -> neurons"
      ],
      "metadata": {
        "id": "jzGgtSoD6sXe",
        "colab": {
          "base_uri": "https://localhost:8080/"
        },
        "outputId": "489dcd7d-78b6-422d-df0d-695d0cafff61"
      },
      "execution_count": null,
      "outputs": [
        {
          "output_type": "stream",
          "name": "stdout",
          "text": [
            "[[ 0.5  0.5  0.5]\n",
            " [20.1 20.1 20.1]\n",
            " [10.9 10.9 10.9]\n",
            " [ 4.1  4.1  4.1]]\n"
          ]
        }
      ]
    },
    {
      "cell_type": "code",
      "source": [
        "import numpy as np\n",
        "dvalues = np.array([[1., 1., 1.],                     #down-> batches          side -> neurons\n",
        "                    [2., 2., 2.],\n",
        "                    [3., 3., 3.]])\n",
        "biases = np.array([[2, 3, 0.5]])\n",
        "\n",
        "dbiases = np.sum(dvalues , axis=0 , keepdims  = True)\n",
        "\n",
        "print(dbiases)"
      ],
      "metadata": {
        "id": "ITD0rK3Cj9Ff",
        "colab": {
          "base_uri": "https://localhost:8080/"
        },
        "outputId": "a80f31bc-d843-4726-da9f-82e24d900a30"
      },
      "execution_count": null,
      "outputs": [
        {
          "output_type": "stream",
          "name": "stdout",
          "text": [
            "[[6. 6. 6.]]\n"
          ]
        }
      ]
    },
    {
      "cell_type": "code",
      "source": [
        "# Example layer output\n",
        "z = np.array([[1, 2, -3, -4],\n",
        "              [2, -7, -1, 3],\n",
        "              [-1, 2, 5, -1]])\n",
        "\n",
        "dvalues = np.array([[1, 2, 3, 4],\n",
        "                    [5, 6, 7, 8],\n",
        "                    [9, 10, 11, 12]])\n",
        "\n",
        "# RELU activation 's derrivative\n",
        "# drelu = np.zeros_like(z)\n",
        "# drelu[z > 0] = 1\n",
        "\n",
        "# print(drelu)\n",
        "\n",
        "# # chain rule\n",
        "# drelu *= dvalues\n",
        "\n",
        "# ReLU activation's derivative\n",
        "# with the chain rule applied\n",
        "drelu = dvalues.copy()\n",
        "drelu[z <= 0] = 0  #????!!!\n",
        "\n",
        "print(drelu)"
      ],
      "metadata": {
        "colab": {
          "base_uri": "https://localhost:8080/"
        },
        "id": "YVVvMLsrZtaW",
        "outputId": "3636571f-b1e3-42cb-8198-e535bf0709ea"
      },
      "execution_count": null,
      "outputs": [
        {
          "output_type": "stream",
          "name": "stdout",
          "text": [
            "[[ 1  2  0  0]\n",
            " [ 5  0  0  8]\n",
            " [ 0 10 11  0]]\n"
          ]
        }
      ]
    },
    {
      "cell_type": "code",
      "source": [
        "\n",
        "dvalues = np.array([[1., 1., 1.],\n",
        "                    [2., 2., 2.],\n",
        "                    [3., 3., 3.]])\n",
        "\n",
        "# We have 3 sets of inputs - samples\n",
        "inputs = np.array([[1, 2, 3, 2.5],\n",
        "                   [2., 5., -1., 2],\n",
        "                   [-1.5, 2.7, 3.3, -0.8]])\n",
        "# We have 3 sets of weights - one set for each neuron\n",
        "# we have 4 inputs, thus 4 weights\n",
        "# recall that we keep weights transposed\n",
        "weights = np.array([[0.2, 0.8, -0.5, 1],\n",
        "                    [0.5, -0.91, 0.26, -0.5],\n",
        "                    [-0.26, -0.27, 0.17, 0.87]]).T\n",
        "# One bias for each neuron\n",
        "# biases are the row vector with a shape (1, neurons)\n",
        "biases = np.array([[2, 3, 0.5]])\n",
        "\n",
        "# forward pass\n",
        "layer_outputs = np.dot(inputs , weights)\n",
        "relu_outputs = np.maximum(0 , layer_outputs)\n",
        "\n",
        "# Let's optimize and test backpropagation here\n",
        "\n",
        "drelu = relu_outputs.copy()\n",
        "drelu[layer_outputs <= 0] = 0\n",
        "print(drelu)"
      ],
      "metadata": {
        "colab": {
          "base_uri": "https://localhost:8080/"
        },
        "id": "3S7HP6ipcsSc",
        "outputId": "6f7f9fe0-6618-4a4f-a3c4-2400029a6044"
      },
      "execution_count": null,
      "outputs": [
        {
          "output_type": "stream",
          "name": "stdout",
          "text": [
            "[[2.8   0.    1.885]\n",
            " [6.9   0.    0.   ]\n",
            " [0.    0.    0.   ]]\n"
          ]
        }
      ]
    },
    {
      "cell_type": "code",
      "source": [
        "#final softmax implimentation\n",
        "import numpy as np\n",
        "import nnfs\n",
        "from nnfs.datasets import spiral_data\n",
        "import math\n",
        "nnfs.init\n",
        "np.random.seed(0)\n",
        "X, y = spiral_data(100, 3)\n",
        "\n",
        "class Activation_ReLU:\n",
        "  def forward(self , input):\n",
        "    self.output = np.maximum(0 , input)\n",
        "\n",
        "    self.inputs = input #here inputs are z(sum funct.)\n",
        "  # backward pass\n",
        "  def backward(self , dvalues):\n",
        "  # with chain rule\n",
        "    self.drelu_z = dvalues.copy\n",
        "  # Zero gradient where input values were negative\n",
        "    self.drelu_z[self.inputs <= 0] = 0\n",
        "\n",
        "class Activation_Softmax:\n",
        "  def forward(self , inputs):\n",
        "    exp_values = np.exp(np.max(inputs , axis=1 , keepdims = True) - inputs)\n",
        "    probabilities = exp_values / np.sum(exp_values , axis =1  , keepdims= True)\n",
        "    self.output = probabilities\n",
        "\n",
        "    #backward\n",
        "  def backward(self , dvalues):\n",
        "    self.dinputs = np.empty_like(dvalues)\n",
        "\n",
        "    for index, (single_output , single_dvalues) in enumerate(zip(self.output , dvalues)):\n",
        "      single_output = single_output.reshape(-1, 1)\n",
        "      jackobian_matrix = np.diagflat(single_output) - np.dot(single_output , single_output.T)\n",
        "      self.dinputs[index] = np.dot(single_dvalues , jackobian_matrix)\n",
        "\n",
        "\n",
        "class layer_dense :\n",
        "  def __init__(self , n_inputs , n_neurons):\n",
        "    self.weights = 0.10*np.random.randn(n_inputs , n_neurons )\n",
        "    self.bias = np.zeros((1 , n_neurons))\n",
        "  def forward(self , input):\n",
        "    self.output = np.dot(input , self.weights) + self.bias\n",
        "    self.inputs = input\n",
        "  # backward pass\n",
        "  def backward(self, dvalues):\n",
        "    # gradient on parameters\n",
        "    self.dweights = np.dot(self.inputs.T , dvalues)\n",
        "    self.dbiases = np.sum(dvalues, axis =0 , keepdims = True)\n",
        "    # gradient on values\n",
        "    self.dinputs = np.dot(dvalues , self.weights.T)\n",
        "\n",
        "class Loss:\n",
        "  def calculate(self , output , y):\n",
        "    loss_values = self.forward(output , y)\n",
        "    mean_loss = np.mean(loss_values)\n",
        "    return mean_loss\n",
        "\n",
        "class Loss_CategoricalCrossEntropy(Loss):\n",
        "  def forward(self , y_pred , y_true):\n",
        "    sample_len = len(y_pred)\n",
        "    clipped_pred = np.clip(y_pred , 1e-7 , 1-1e-7) # [1,2,3,4,5,6,7] cliped in range(2 , 5) ----> [2,2,3,4,5,5,5]\n",
        "\n",
        "    if len(y_true.shape) == 1: #class targets\n",
        "      correct_confidences = clipped_pred[range(sample_len) , y_true]\n",
        "\n",
        "    elif len(y_true.shape) == 2:\n",
        "      correct_confidences = np.sum(clipped_pred * y_true , axis = 1)\n",
        "\n",
        "    entropy_loss  = - np.log(correct_confidences)\n",
        "    return entropy_loss\n",
        "\n",
        "  #backpropagation\n",
        "  def backward(self , dvalues , y_true):\n",
        "    # Number of samples\n",
        "    samples = len(dvalues)\n",
        "    # Number of labels in every sample\n",
        "    labels = len(dvalues[0])\n",
        "    #if lables are sparse , turn them into onehot vector\n",
        "    if len(y_true.shape)== 1 :\n",
        "      y_true = np.eye(labels)[y_true]\n",
        "\n",
        "    #calculating gradient\n",
        "    self.dinputs = - y_true / dvalues\n",
        "    # normalizing gradient kuki gradient zada bada hoga toh step bhi bohot zada bada hojayega\n",
        "    # , we’ll have to adjust the learning rate according to each set of samples to compensate we do this step\n",
        "    self.dinputs = self.dinputs / samples\n",
        "\n",
        "\n",
        "layer1 = layer_dense(2 , 3)\n",
        "layer2 = layer_dense(3 , 3)\n",
        "\n",
        "activation1 = Activation_ReLU()\n",
        "activation2 = Activation_Softmax()\n",
        "\n",
        "layer1.forward(X)\n",
        "activation1.forward(layer1.output)\n",
        "output1 = activation1.output\n",
        "\n",
        "layer2.forward(output1)\n",
        "activation2.forward(layer2.output)\n",
        "output2 = activation2.output\n",
        "print(output2[:5])\n",
        "print(np.sum(output2 , axis=1 , keepdims=True)[:5])\n",
        "\n",
        "loss_function = Loss_CategoricalCrossEntropy()\n",
        "loss = loss_function.calculate(output2 , y)\n",
        "\n",
        "print(loss)\n",
        "\n"
      ],
      "metadata": {
        "colab": {
          "base_uri": "https://localhost:8080/"
        },
        "outputId": "d9347ce3-0d68-40c8-f7fb-02f7ebd35b81",
        "id": "SI7cwD_ye3yT"
      },
      "execution_count": null,
      "outputs": [
        {
          "output_type": "stream",
          "name": "stdout",
          "text": [
            "[[0.33333333 0.33333333 0.33333333]\n",
            " [0.33334933 0.33334834 0.33330233]\n",
            " [0.33337786 0.33337513 0.33324701]\n",
            " [0.33340725 0.3334027  0.33319005]\n",
            " [0.33343354 0.33342738 0.33313909]]\n",
            "[[1.]\n",
            " [1.]\n",
            " [1.]\n",
            " [1.]\n",
            " [1.]]\n",
            "1.0988106274425764\n"
          ]
        }
      ]
    },
    {
      "cell_type": "code",
      "source": [
        "import numpy as np\n",
        "outputs = np.array([1 , 2, 3]).T\n",
        "print(np.diagflat(outputs))"
      ],
      "metadata": {
        "colab": {
          "base_uri": "https://localhost:8080/"
        },
        "id": "GYzM1MtYlxUD",
        "outputId": "a3ec87a0-84b8-4ea4-a990-0c52b2dff580"
      },
      "execution_count": null,
      "outputs": [
        {
          "output_type": "stream",
          "name": "stdout",
          "text": [
            "[[1 0 0]\n",
            " [0 2 0]\n",
            " [0 0 3]]\n"
          ]
        }
      ]
    },
    {
      "cell_type": "code",
      "source": [
        "class backprop:\n",
        "   def backward(self, dvalues):\n",
        "        self.output = np.array([[1,2,3],\n",
        "                                [3,4,5],\n",
        "                                [5,6,7]])\n",
        "        # Create uninitialized array\n",
        "        self.dinputs = np.empty_like(dvalues)\n",
        "\n",
        "        # Enumerate outputs and gradients\n",
        "        for index, (single_output, single_dvalues) in enumerate(zip(self.output, dvalues)):\n",
        "            # Flatten output array\n",
        "            single_output = single_output.reshape(-1,1)\n",
        "            # Calculate Jacobian matrix of the output and\n",
        "            jacobian_matrix = np.diagflat(single_output) - np.dot(single_output, single_output.T)\n",
        "            # Calculate sample-wise gradient\n",
        "            # and add it to the array of sample gradients\n",
        "            self.dinputs[index] = np.dot(jacobian_matrix , single_dvalues)\n",
        "            print(self.dinputs)\n",
        "dvalues = np.array([[1,2,3],\n",
        "                    [1,2,3],\n",
        "                    [1,2,3]])\n",
        "ans =  backprop()\n",
        "ans.backward(dvalues)\n",
        "\n"
      ],
      "metadata": {
        "colab": {
          "base_uri": "https://localhost:8080/"
        },
        "id": "ahiW4w5fD2tN",
        "outputId": "f9d25cc2-725f-4196-cb1d-ce37061a5f94"
      },
      "execution_count": null,
      "outputs": [
        {
          "output_type": "stream",
          "name": "stdout",
          "text": [
            "[[                 -13                  -24                  -33]\n",
            " [-4628454777551650332 -4629386910209827290  4607532545775642469]\n",
            " [-4615618445389700568 -4618615457198439519 -4622767038676025009]]\n",
            "[[                 -13                  -24                  -33]\n",
            " [                 -75                  -96                 -115]\n",
            " [-4615618445389700568 -4618615457198439519 -4622767038676025009]]\n",
            "[[ -13  -24  -33]\n",
            " [ -75  -96 -115]\n",
            " [-185 -216 -245]]\n"
          ]
        }
      ]
    },
    {
      "cell_type": "code",
      "source": [
        "\n",
        "pip install nnfs"
      ],
      "metadata": {
        "id": "OEkKD0ZnTIZm",
        "colab": {
          "base_uri": "https://localhost:8080/"
        },
        "outputId": "4699a2c6-645a-4d83-d0ea-e765ea645657"
      },
      "execution_count": null,
      "outputs": [
        {
          "output_type": "stream",
          "name": "stdout",
          "text": [
            "Collecting nnfs\n",
            "  Downloading nnfs-0.5.1-py3-none-any.whl (9.1 kB)\n",
            "Requirement already satisfied: numpy in /usr/local/lib/python3.10/dist-packages (from nnfs) (1.25.2)\n",
            "Installing collected packages: nnfs\n",
            "Successfully installed nnfs-0.5.1\n"
          ]
        }
      ]
    },
    {
      "cell_type": "code",
      "source": [
        "#final softmax implimentation\n",
        "import matplotlib.pyplot as plt\n",
        "import numpy as np\n",
        "import nnfs\n",
        "from nnfs.datasets import spiral_data\n",
        "import math\n",
        "nnfs.init\n",
        "np.random.seed(0)\n",
        "X, y = spiral_data(100, 3)\n",
        "\n",
        "class Activation_ReLU:\n",
        "  def forward(self , input):\n",
        "    self.output = np.maximum(0 , input)\n",
        "\n",
        "    self.inputs = input #here inputs are z(sum funct.)\n",
        "  # backward pass\n",
        "  def backward(self , dvalues):\n",
        "  # with chain rule\n",
        "    self.dinputs = dvalues.copy()\n",
        "  # Zero gradient where input values were negative\n",
        "    self.dinputs[self.inputs <= 0] = 0\n",
        "\n",
        "class Activation_Softmax:\n",
        "  def forward(self , inputs):\n",
        "    exp_values = np.exp(inputs - np.max(inputs , axis=1 , keepdims = True))\n",
        "    probabilities = exp_values / np.sum(exp_values , axis =1  , keepdims= True)\n",
        "    self.output = probabilities\n",
        "\n",
        "    #backward\n",
        "  def backward(self , dvalues):\n",
        "    self.dinputs = np.empty_like(dvalues)\n",
        "\n",
        "    for index, (single_output , single_dvalues) in enumerate(zip(self.output , dvalues)):\n",
        "      single_output = single_output.reshape(-1, 1)\n",
        "      jacobian_matrix = np.diagflat(single_output) - np.dot(single_output , single_output.T)\n",
        "      self.dinputs[index] = np.dot(single_dvalues , jacobian_matrix)\n",
        "\n",
        "\n",
        "class layer_dense :\n",
        "  def __init__(self , n_inputs , n_neurons):\n",
        "    self.weights = 0.10*np.random.randn(n_inputs , n_neurons )\n",
        "    self.biases = np.zeros((1 , n_neurons))\n",
        "  def forward(self , input):\n",
        "    self.output = np.dot(input , self.weights) + self.biases\n",
        "    self.inputs = input\n",
        "  # backward pass\n",
        "  def backward(self, dvalues):\n",
        "    # gradient on parameters\n",
        "    self.dweights = np.dot(self.inputs.T , dvalues)\n",
        "    self.dbiases = np.sum(dvalues, axis =0 , keepdims = True)\n",
        "    # gradient on values\n",
        "    self.dinputs = np.dot(dvalues , self.weights.T)\n",
        "\n",
        "class Loss:\n",
        "  def calculate(self , output , y):\n",
        "    loss_values = self.forward(output , y)\n",
        "    mean_loss = np.mean(loss_values)\n",
        "    return mean_loss\n",
        "\n",
        "class Loss_CategoricalCrossEntropy(Loss):\n",
        "  def forward(self , y_pred , y_true):\n",
        "    sample_len = len(y_pred)\n",
        "    clipped_pred = np.clip(y_pred , 1e-7 , 1-1e-7) # [1,2,3,4,5,6,7] cliped in range(2 , 5) ----> [2,2,3,4,5,5,5]\n",
        "\n",
        "    if len(y_true.shape) == 1: #class targets\n",
        "      correct_confidences = clipped_pred[range(sample_len) , y_true]\n",
        "\n",
        "    elif len(y_true.shape) == 2:\n",
        "      correct_confidences = np.sum(clipped_pred * y_true , axis = 1)\n",
        "\n",
        "    entropy_loss  = - np.log(correct_confidences)\n",
        "    return entropy_loss\n",
        "\n",
        "  #backpropagation\n",
        "  def backward(self , dvalues , y_true):\n",
        "    # Number of samples\n",
        "    samples = len(dvalues)\n",
        "    # Number of labels in every sample\n",
        "    labels = len(dvalues[0])\n",
        "    #if lables are sparse , turn them into onehot vector\n",
        "    if len(y_true.shape)== 1 :\n",
        "      y_true = np.eye(labels)[y_true]\n",
        "\n",
        "    #calculating gradient\n",
        "    self.dinputs = - y_true / dvalues\n",
        "    # normalizing gradient kuki gradient zada bada hoga toh step bhi bohot zada bada hojayega\n",
        "    # , we’ll have to adjust the learning rate according to each set of samples to compensate we do this step\n",
        "    self.dinputs = self.dinputs / samples\n",
        "\n",
        "class Activation_Softmax_Loss_CategoricalCrossentropy():\n",
        "  # Creates activation and loss function objects\n",
        "  def __init__(self):\n",
        "    self.activation = Activation_Softmax()\n",
        "    self.loss = Loss_CategoricalCrossEntropy()\n",
        "\n",
        "  # forward\n",
        "  def forward(self , inputs , y_true): # here inputs are z\n",
        "    # output layer activation function\n",
        "    self.activation.forward(inputs)\n",
        "    self.output = self.activation.output\n",
        "    # calculate and return loss value\n",
        "    return self.loss.calculate(self.output , y_true)\n",
        "\n",
        "  def backward(self , dvalues , y_true):\n",
        "    samples = len(dvalues)\n",
        "     # If labels are one-hot encoded,\n",
        "     # turn them into discrete values because its easier to handle in this case\n",
        "    if len(y_true.shape) == 2:\n",
        "      y_true = np.argmax(y_true , axis = 1)\n",
        "\n",
        "    self.dinputs = dvalues.copy()\n",
        "    # calculate gradient\n",
        "    self.dinputs[range(samples) , y_true] -= 1\n",
        "    # normalize gradient\n",
        "    self.dinputs = self.dinputs / samples\n",
        "\n",
        "class Optimizer_SGD():\n",
        "  def __init__(self , learning_rate = 3.26):\n",
        "    self.Learning_rate = learning_rate\n",
        "\n",
        "  def update_params(self , layer):\n",
        "    layer.weights -= self.Learning_rate * layer.dweights\n",
        "    layer.biases -= self.Learning_rate * layer.dbiases\n",
        "\n",
        "optimizer = Optimizer_SGD()\n",
        "\n",
        "layer1 = layer_dense(2 , 64)\n",
        "layer2 = layer_dense(64 , 3)\n",
        "\n",
        "activation1 = Activation_ReLU()\n",
        "loss_activation = Activation_Softmax_Loss_CategoricalCrossentropy()\n",
        "\n",
        "losses = []\n",
        "accuracies = []\n",
        "\n",
        "for epoch in range(10000):\n",
        "  layer1.forward(X)\n",
        "  activation1.forward(layer1.output)\n",
        "  output1 = activation1.output\n",
        "\n",
        "  layer2.forward(output1)\n",
        "  loss = loss_activation.forward(layer2.output , y) #softmax and loss is cal. and loss is returned\n",
        "  output2 = loss_activation.output\n",
        "\n",
        "  #Calculate accuracy from output of activation2 and targets\n",
        "  #calculate values along the first axis\n",
        "  predictions = np.argmax(loss_activation.output, axis =1) #correct predictions here we dont care about the values of prediction just about whether the neuron got activated or not\n",
        "  if len(y.shape) == 2:\n",
        "    y = np.argmax(y , axis = 1)\n",
        "  accuracy = np.mean(predictions == y)\n",
        "\n",
        "\n",
        "  if not epoch % 100:\n",
        "    print(f'epoch: {epoch}, '+\n",
        "          f'acc: {accuracy:.3f}, '+\n",
        "          f'loss: {loss:.3f}')\n",
        "\n",
        "  losses.append(loss)\n",
        "  accuracies.append(accuracy)\n",
        "\n",
        "  #backpropagation\n",
        "  loss_activation.backward(output2, y)\n",
        "  layer2.backward(loss_activation.dinputs)\n",
        "  activation1.backward(layer2.dinputs)\n",
        "  layer1.backward(activation1.dinputs)\n",
        "\n",
        "  optimizer.update_params(layer1)\n",
        "  optimizer.update_params(layer2)\n",
        "\n",
        "\n",
        "def plot_decision_boundary(X, y, model):\n",
        "    x_min, x_max = X[:, 0].min() - 0.5, X[:, 0].max() + 0.5\n",
        "    y_min, y_max = X[:, 1].min() - 0.5, X[:, 1].max() + 0.5\n",
        "    xx, yy = np.meshgrid(np.linspace(x_min, x_max, 100), np.linspace(y_min, y_max, 100))\n",
        "    X_grid = np.c_[xx.ravel(), yy.ravel()]\n",
        "\n",
        "    layer1.forward(X_grid)\n",
        "    activation1.forward(layer1.output)\n",
        "    layer2.forward(activation1.output)\n",
        "    Z = np.argmax(layer2.output, axis=1)\n",
        "    Z = Z.reshape(xx.shape)\n",
        "\n",
        "    plt.contourf(xx, yy, Z, alpha=0.8, cmap=plt.cm.Spectral)\n",
        "    plt.scatter(X[:, 0], X[:, 1], c=y, s=40, cmap=plt.cm.Spectral, edgecolors='k')\n",
        "    plt.title('Decision Boundary')\n",
        "\n",
        "plt.figure(figsize=(15, 5))\n",
        "\n",
        "plt.subplot(1, 3, 1)\n",
        "plot_decision_boundary(X, y, layer2)\n",
        "plt.title(\"Decision Boundary\")\n",
        "\n",
        "plt.subplot(1, 3, 2)\n",
        "plt.plot(losses)\n",
        "plt.title(\"Loss\")\n",
        "\n",
        "plt.subplot(1, 3, 3)\n",
        "plt.plot(accuracies)\n",
        "plt.title(\"Accuracy\")\n",
        "\n",
        "plt.show()\n",
        "\n"
      ],
      "metadata": {
        "colab": {
          "base_uri": "https://localhost:8080/",
          "height": 1000
        },
        "outputId": "501fe4c0-924a-4e8b-8755-c4f7f9fc1390",
        "id": "Xe5w-VEfEM5U"
      },
      "execution_count": null,
      "outputs": [
        {
          "output_type": "stream",
          "name": "stdout",
          "text": [
            "epoch: 0, acc: 0.360, loss: 1.097\n",
            "epoch: 100, acc: 0.350, loss: 1.078\n",
            "epoch: 200, acc: 0.413, loss: 1.067\n",
            "epoch: 300, acc: 0.397, loss: 1.073\n",
            "epoch: 400, acc: 0.417, loss: 1.051\n",
            "epoch: 500, acc: 0.407, loss: 1.020\n",
            "epoch: 600, acc: 0.457, loss: 0.976\n",
            "epoch: 700, acc: 0.433, loss: 1.052\n",
            "epoch: 800, acc: 0.483, loss: 0.945\n",
            "epoch: 900, acc: 0.550, loss: 0.939\n",
            "epoch: 1000, acc: 0.527, loss: 0.878\n",
            "epoch: 1100, acc: 0.517, loss: 0.877\n",
            "epoch: 1200, acc: 0.507, loss: 0.888\n",
            "epoch: 1300, acc: 0.513, loss: 0.906\n",
            "epoch: 1400, acc: 0.483, loss: 0.954\n",
            "epoch: 1500, acc: 0.607, loss: 0.866\n",
            "epoch: 1600, acc: 0.540, loss: 0.860\n",
            "epoch: 1700, acc: 0.523, loss: 0.905\n",
            "epoch: 1800, acc: 0.473, loss: 1.449\n",
            "epoch: 1900, acc: 0.437, loss: 1.723\n",
            "epoch: 2000, acc: 0.713, loss: 0.643\n",
            "epoch: 2100, acc: 0.690, loss: 0.639\n",
            "epoch: 2200, acc: 0.533, loss: 0.964\n",
            "epoch: 2300, acc: 0.707, loss: 0.594\n",
            "epoch: 2400, acc: 0.687, loss: 0.643\n",
            "epoch: 2500, acc: 0.673, loss: 0.604\n",
            "epoch: 2600, acc: 0.720, loss: 0.609\n",
            "epoch: 2700, acc: 0.687, loss: 0.568\n",
            "epoch: 2800, acc: 0.697, loss: 0.562\n",
            "epoch: 2900, acc: 0.700, loss: 0.566\n",
            "epoch: 3000, acc: 0.677, loss: 0.637\n",
            "epoch: 3100, acc: 0.663, loss: 0.647\n",
            "epoch: 3200, acc: 0.687, loss: 0.604\n",
            "epoch: 3300, acc: 0.747, loss: 0.534\n",
            "epoch: 3400, acc: 0.697, loss: 0.654\n",
            "epoch: 3500, acc: 0.643, loss: 0.644\n",
            "epoch: 3600, acc: 0.703, loss: 0.554\n",
            "epoch: 3700, acc: 0.703, loss: 0.516\n",
            "epoch: 3800, acc: 0.707, loss: 0.561\n",
            "epoch: 3900, acc: 0.707, loss: 0.560\n",
            "epoch: 4000, acc: 0.710, loss: 0.551\n",
            "epoch: 4100, acc: 0.713, loss: 0.553\n",
            "epoch: 4200, acc: 0.710, loss: 0.559\n",
            "epoch: 4300, acc: 0.710, loss: 0.561\n",
            "epoch: 4400, acc: 0.730, loss: 0.548\n",
            "epoch: 4500, acc: 0.750, loss: 0.511\n",
            "epoch: 4600, acc: 0.747, loss: 0.506\n",
            "epoch: 4700, acc: 0.770, loss: 0.488\n",
            "epoch: 4800, acc: 0.707, loss: 0.540\n",
            "epoch: 4900, acc: 0.703, loss: 0.536\n",
            "epoch: 5000, acc: 0.727, loss: 0.512\n",
            "epoch: 5100, acc: 0.710, loss: 0.547\n",
            "epoch: 5200, acc: 0.697, loss: 0.558\n",
            "epoch: 5300, acc: 0.697, loss: 0.557\n",
            "epoch: 5400, acc: 0.700, loss: 0.556\n",
            "epoch: 5500, acc: 0.737, loss: 0.553\n",
            "epoch: 5600, acc: 0.730, loss: 0.546\n",
            "epoch: 5700, acc: 0.763, loss: 0.445\n",
            "epoch: 5800, acc: 0.683, loss: 0.556\n",
            "epoch: 5900, acc: 0.693, loss: 0.538\n",
            "epoch: 6000, acc: 0.763, loss: 0.434\n",
            "epoch: 6100, acc: 0.757, loss: 0.485\n",
            "epoch: 6200, acc: 0.737, loss: 0.496\n",
            "epoch: 6300, acc: 0.747, loss: 0.487\n",
            "epoch: 6400, acc: 0.740, loss: 0.479\n",
            "epoch: 6500, acc: 0.747, loss: 0.475\n",
            "epoch: 6600, acc: 0.753, loss: 0.479\n",
            "epoch: 6700, acc: 0.797, loss: 0.403\n",
            "epoch: 6800, acc: 0.723, loss: 0.510\n",
            "epoch: 6900, acc: 0.723, loss: 0.522\n",
            "epoch: 7000, acc: 0.740, loss: 0.493\n",
            "epoch: 7100, acc: 0.747, loss: 0.484\n",
            "epoch: 7200, acc: 0.760, loss: 0.457\n",
            "epoch: 7300, acc: 0.733, loss: 0.597\n",
            "epoch: 7400, acc: 0.783, loss: 0.419\n",
            "epoch: 7500, acc: 0.767, loss: 0.431\n",
            "epoch: 7600, acc: 0.733, loss: 0.469\n",
            "epoch: 7700, acc: 0.817, loss: 0.385\n",
            "epoch: 7800, acc: 0.803, loss: 0.414\n",
            "epoch: 7900, acc: 0.700, loss: 0.841\n",
            "epoch: 8000, acc: 0.823, loss: 0.385\n",
            "epoch: 8100, acc: 0.803, loss: 0.408\n",
            "epoch: 8200, acc: 0.807, loss: 0.395\n",
            "epoch: 8300, acc: 0.790, loss: 0.403\n",
            "epoch: 8400, acc: 0.810, loss: 0.414\n",
            "epoch: 8500, acc: 0.817, loss: 0.348\n",
            "epoch: 8600, acc: 0.780, loss: 0.405\n",
            "epoch: 8700, acc: 0.823, loss: 0.380\n",
            "epoch: 8800, acc: 0.807, loss: 0.391\n",
            "epoch: 8900, acc: 0.793, loss: 0.395\n",
            "epoch: 9000, acc: 0.807, loss: 0.408\n",
            "epoch: 9100, acc: 0.803, loss: 0.380\n",
            "epoch: 9200, acc: 0.763, loss: 0.433\n",
            "epoch: 9300, acc: 0.773, loss: 0.474\n",
            "epoch: 9400, acc: 0.810, loss: 0.404\n",
            "epoch: 9500, acc: 0.697, loss: 0.805\n",
            "epoch: 9600, acc: 0.803, loss: 0.373\n",
            "epoch: 9700, acc: 0.807, loss: 0.411\n",
            "epoch: 9800, acc: 0.803, loss: 0.374\n",
            "epoch: 9900, acc: 0.793, loss: 0.491\n"
          ]
        },
        {
          "output_type": "display_data",
          "data": {
            "text/plain": [
              "<Figure size 1500x500 with 3 Axes>"
            ],
            "image/png": "[encoded data removed]"
          },
          "metadata": {}
        }
      ]
    },
    {
      "cell_type": "code",
      "source": [
        "\n",
        "nnfs.init()\n",
        "\n",
        "softmax_outputs = np.array([[0.7, 0.1, 0.2],\n",
        "                            [0.1, 0.5, 0.4],\n",
        "                            [0.02, 0.9, 0.08]])\n",
        "\n",
        "class_targets = np.array([0, 1, 1])\n",
        "\n",
        "softmax_loss = Activation_Softmax_Loss_CategoricalCrossentropy()\n",
        "softmax_loss.backward(softmax_outputs ,class_targets)\n",
        "dvalues1 = softmax_loss.dinputs\n",
        "\n",
        "activation = Activation_Softmax()\n",
        "activation.output = softmax_outputs\n",
        "loss = Loss_CategoricalCrossEntropy()\n",
        "loss.backward(softmax_outputs , class_targets)\n",
        "activation.backward(loss.dinputs)\n",
        "dvalues2 = activation.dinputs\n",
        "\n",
        "print(dvalues1)\n",
        "print('\\n',dvalues2)"
      ],
      "metadata": {
        "colab": {
          "base_uri": "https://localhost:8080/"
        },
        "id": "k0ac1fJdMZr4",
        "outputId": "c031b520-0b2a-4bfe-b09a-e410ceaccfef"
      },
      "execution_count": null,
      "outputs": [
        {
          "output_type": "stream",
          "name": "stdout",
          "text": [
            "[[-0.1         0.03333333  0.06666667]\n",
            " [ 0.03333333 -0.16666667  0.13333333]\n",
            " [ 0.00666667 -0.03333333  0.02666667]]\n",
            "\n",
            " [[-0.09999999  0.03333334  0.06666667]\n",
            " [ 0.03333334 -0.16666667  0.13333334]\n",
            " [ 0.00666667 -0.03333333  0.02666667]]\n"
          ]
        }
      ]
    },
    {
      "cell_type": "code",
      "source": [],
      "metadata": {
        "id": "PU160LBeN3mJ"
      },
      "execution_count": null,
      "outputs": []
    },
    {
      "cell_type": "code",
      "source": [],
      "metadata": {
        "id": "NevNH2cwW0Kw"
      },
      "execution_count": null,
      "outputs": []
    },
    {
      "cell_type": "code",
      "source": [
        "X.shape\n"
      ],
      "metadata": {
        "id": "4GkFFQwKhcyJ",
        "colab": {
          "base_uri": "https://localhost:8080/"
        },
        "outputId": "0ff761d3-b19d-4563-e3f4-4c1dfe0ab04f"
      },
      "execution_count": null,
      "outputs": [
        {
          "output_type": "execute_result",
          "data": {
            "text/plain": [
              "(300, 2)"
            ]
          },
          "metadata": {},
          "execution_count": 4
        }
      ]
    },
    {
      "cell_type": "code",
      "source": [],
      "metadata": {
        "id": "0pfJlpcjA8Pv"
      },
      "execution_count": null,
      "outputs": []
    }
  ]
}